{
  "nbformat": 4,
  "nbformat_minor": 0,
  "metadata": {
    "colab": {
      "name": "Network_modularity_task1.ipynb",
      "provenance": [],
      "collapsed_sections": []
    },
    "kernelspec": {
      "name": "python3",
      "display_name": "Python 3"
    },
    "language_info": {
      "name": "python"
    }
  },
  "cells": [
    {
      "cell_type": "markdown",
      "metadata": {
        "id": "zxTNWOS4hyqK"
      },
      "source": [
        "\n",
        "# Network modularity using the Zachary Karate network\n",
        "\n",
        "A commonly used example of a network used for network analysis is Zachary's Karate Club. Wayne Zachary introduced this dataset in his paper \"An Information Flow Model for Conflict and Fission in Small Groups\" published in 1977 and has been widely used ever since.\n",
        "\n",
        "The network models the interactions between 34 members of a karate club, each node representing an individual and each link/edge represents individuals who interact outside of the karate club (i.e. socialise outside of the club).\n",
        "\n",
        "There are two important individuals in the club - the officer John A (node 33) and the instructor Mr. Hi. However, a conflict occured between John A and Mr. Hi, causing the club to split into two separate clubs, one lead by John A and the other by Mr. Hi.\n",
        "\n",
        "It is reasonable to assume that each member's decision to join either new club would be influenced by their relationships between other members of the club. As we have the data on these relationships, i.e. the network, we can attempt to predict which new club each person will join using the principles of network analysis.\n",
        "\n",
        "First, we will begin by installing the required packages in Python for our analysis:"
      ]
    },
    {
      "cell_type": "code",
      "metadata": {
        "id": "o1b-jKltfxyi"
      },
      "source": [
        "# Install networkx and install the required packages\n",
        "!pip install -q networkx\n",
        "\n",
        "import sys\n",
        "import networkx as nx \n",
        "import matplotlib.pyplot as plt\n",
        "import numpy as np\n",
        "import math\n",
        "import pandas as pd\n",
        "import matplotlib as mpltlb\n",
        "\n",
        "%matplotlib inline"
      ],
      "execution_count": null,
      "outputs": []
    },
    {
      "cell_type": "markdown",
      "metadata": {
        "id": "uNh2JIwUlH1G"
      },
      "source": [
        "We will then import the graph for Zachary's karate club:"
      ]
    },
    {
      "cell_type": "code",
      "metadata": {
        "id": "cWyBxDYqhczV"
      },
      "source": [
        "#Let's import the ZKC graph:\n",
        "ZKC_graph = nx.karate_club_graph()"
      ],
      "execution_count": null,
      "outputs": []
    },
    {
      "cell_type": "markdown",
      "metadata": {
        "id": "x01eAVACOa0p"
      },
      "source": [
        "One way to represent a network mathematically is to use an adjacency matrix, denoted $A$. Each element of the matrix $A_{i, j}$ will be equal to $1$ if member $i$ interacts with member $j$ outside of the club, and vice-versa. Otherwise, $A_{i,j}$ will be equal to $0$, indicate $i$ and $j$ do not interact outside the club.\n",
        "\n",
        "Displaying $A$ as a \"spy\" plot will help us look into what is happening in the graph:"
      ]
    },
    {
      "cell_type": "code",
      "metadata": {
        "id": "EtK_cBCmI4x7"
      },
      "source": [
        "A = nx.convert_matrix.to_numpy_matrix(ZKC_graph)\n",
        "\n",
        "# Create a little plot of the adjacency matrix that shows which nodes are\n",
        "# connected to which other nodes\n",
        "fig, axs = plt.subplots()\n",
        "axs.spy(A, markersize=5)\n",
        "print(A)\n",
        "\n",
        "# Check the size of the adjacenty matrix\n",
        "print(A.shape)"
      ],
      "execution_count": null,
      "outputs": []
    },
    {
      "cell_type": "markdown",
      "metadata": {
        "id": "dSN41LnMroPG"
      },
      "source": [
        "The blue squares in this matrix indicate values of 1, and the white areas show values of zero. The structure of the network is already pretty clear from this matrix, which means that the members must be ordered in a fairly obvious way. The members 0 to 15 are fairly closely connected, while those from 24 to 34 are also well connected.\n",
        "\n",
        "Let's propose a two-partition grouping for the network. Let's put the odd members in one group, and the even members in another group. There are 33 group members in total."
      ]
    },
    {
      "cell_type": "code",
      "metadata": {
        "id": "XzAweRNjr9kh"
      },
      "source": [
        "Groups = np.array([1,2,1,2,1,2,1,2,1,2,1,2,1,2,1,2,1,2,1,2,1,2,1,2,1,2,1,2,1,2,1,2,1,2])\n",
        "print(Groups)\n",
        "print(len(Groups))\n",
        "print(A.shape)\n",
        "\n",
        "TotalNodes = 34\n",
        "TotalLinks = 0\n",
        "\n",
        "for i in range(34):\n",
        "  for j in range(34):\n",
        "    if A[i, j] == 1:\n",
        "      TotalLinks = TotalLinks + 1\n",
        "\n",
        "Nodes_in_module_1 = 0\n",
        "Nodes_in_module_2 = 0\n",
        "\n",
        "for i in range(34):\n",
        "  if Groups[i] == 1:\n",
        "    Nodes_in_module_1 = Nodes_in_module_1 + 1;\n",
        "  if Groups[i] == 2:\n",
        "    Nodes_in_module_2 = Nodes_in_module_2 + 1;\n",
        "\n",
        "print(\"There are\",TotalLinks,\"links in total\")\n",
        "print(\"There are\",Nodes_in_module_1,\"nodes in module 1\")\n",
        "print(\"There are\",Nodes_in_module_2,\"nodes in module 2\")\n"
      ],
      "execution_count": null,
      "outputs": []
    },
    {
      "cell_type": "markdown",
      "metadata": {
        "id": "VRwdVrjlm2zm"
      },
      "source": [
        "Let's calculate the modularity of this proposed partition, using the methods that were shown on the slides."
      ]
    },
    {
      "cell_type": "code",
      "metadata": {
        "id": "Oa-_lzN5t7lB"
      },
      "source": [
        "Within_module_1 = 0\n",
        "Within_module_2 = 0\n",
        "\n",
        "for i in range(34):\n",
        "  for j in range(34):\n",
        "    if A[i, j] == 1 and Groups[i] == 1 and Groups[j] == 1:\n",
        "      Within_module_1 = Within_module_1 + 1\n",
        "\n",
        "for i in range(34):\n",
        "  for j in range(34):\n",
        "    if A[i, j] > 0 and Groups[i] > 1 and Groups[j] > 1:\n",
        "      Within_module_2 = Within_module_2 + 1\n",
        "\n",
        "Q1 = Within_module_1/(Nodes_in_module_1*TotalLinks/TotalNodes) \n",
        "Q2 = Within_module_2/(Nodes_in_module_2*TotalLinks/TotalNodes) \n",
        "Q = Q1 + Q2\n",
        "\n",
        "print(\"The modularity of the first node is\",Q1)\n",
        "print(\"The modularity of the second node is\",Q2)\n",
        "print(\"The modularity of the partition is\",Q)\n",
        "\n",
        "print(Within_module_1,\"edges were entirely within the first module\")\n",
        "print(Within_module_2,\"edges were entirely within the second module\")\n"
      ],
      "execution_count": null,
      "outputs": []
    },
    {
      "cell_type": "markdown",
      "metadata": {
        "id": "oJybyQT10O2-"
      },
      "source": [
        "Now let's plot the proposed partition."
      ]
    },
    {
      "cell_type": "code",
      "metadata": {
        "id": "NCYuDdC50Npe"
      },
      "source": [
        "# create the figure\n",
        "fig, axs = plt.subplots()\n",
        "\n",
        "# make a vector of locations for each of the nodes\n",
        "location = np.zeros([34, 2])\n",
        "\n",
        "# initially just assign them a random value\n",
        "for n in range(34):\n",
        "  location[n, :] = np.random.rand(1, 2)\n",
        "\n",
        "for i in range(34):\n",
        "  if Groups[i] == 1:\n",
        "    location[i, 0] = location[i, 0]+2\n",
        "    axs.plot(location[i, 0], location[i, 1], 'go', markersize = 10)\n",
        "\n",
        "for i in range(34):\n",
        "  if Groups[i] == 2:\n",
        "    axs.plot(location[i, 0], location[i, 1], 'mo', markersize = 10)\n",
        "\n",
        "# now need to plot the connections between members\n",
        "for i in range(34):\n",
        "  for j in range(i, 34):\n",
        "\n",
        "    # if a connection between i and j exists, plot the connection\n",
        "    if A[i, j] == 1:\n",
        "      axs.plot([location[i, 0], location[j, 0]], [location[i, 1], location[j, 1]], 'k', alpha = 0.5, linestyle='dashed', linewidth = 0.5)\n",
        "\n",
        "# show the figure\n",
        "plt.show()"
      ],
      "execution_count": null,
      "outputs": []
    }
  ]
}