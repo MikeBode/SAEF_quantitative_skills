{
  "nbformat": 4,
  "nbformat_minor": 0,
  "metadata": {
    "colab": {
      "name": "Network_modularity.ipynb",
      "provenance": [],
      "collapsed_sections": []
    },
    "kernelspec": {
      "name": "python3",
      "display_name": "Python 3"
    },
    "language_info": {
      "name": "python"
    }
  },
  "cells": [
    {
      "cell_type": "markdown",
      "metadata": {
        "id": "zxTNWOS4hyqK"
      },
      "source": [
        "\n",
        "## Modularity using the Karate network & GN algorithm\n",
        "\n",
        "First, we will begin by installing the required packages in Python for our analysis:"
      ]
    },
    {
      "cell_type": "code",
      "metadata": {
        "id": "o1b-jKltfxyi"
      },
      "source": [
        "# Install networkx and install the required packages\n",
        "!pip install -q networkx\n",
        "\n",
        "import sys\n",
        "import networkx as nx \n",
        "import matplotlib.pyplot as plt\n",
        "import numpy as np\n",
        "import math\n",
        "import pandas as pd\n",
        "import matplotlib as mpltlb\n",
        "\n",
        "%matplotlib inline"
      ],
      "execution_count": null,
      "outputs": []
    },
    {
      "cell_type": "markdown",
      "metadata": {
        "id": "uNh2JIwUlH1G"
      },
      "source": [
        "We will then import the graph for Zachary's karate club, and retrieve the club labels for each node which indicate which side each member took:"
      ]
    },
    {
      "cell_type": "code",
      "metadata": {
        "id": "cWyBxDYqhczV"
      },
      "source": [
        "#Let's import the ZKC graph:\n",
        "ZKC_graph = nx.karate_club_graph()\n",
        "\n",
        "#Let's keep track of which nodes represent John A and Mr Hi\n",
        "Mr_Hi = 0\n",
        "John_A = 33\n",
        "\n",
        "#Let's display the labels of which club each member ended up joining\n",
        "club_labels = nx.get_node_attributes(ZKC_graph,'club')\n",
        "\n",
        "#just show a couple of the labels\n",
        "print({key:club_labels[key] for key in range(10,16)})\n",
        "\n",
        "A = nx.convert_matrix.to_numpy_matrix(ZKC_graph)"
      ],
      "execution_count": null,
      "outputs": []
    },
    {
      "cell_type": "markdown",
      "metadata": {
        "id": "yhzdYOBJrOJU"
      },
      "source": [
        "We're going to apply an eigenvector-based method for identifying modules in the network, following a well-known paper by Girvan & Newman.\n",
        "\n",
        "Newman, Mark EJ, and Michelle Girvan. \"Finding and evaluating community structure in networks.\" *Physical Review E* 69.2 (2004): 026113.\n",
        "\n"
      ]
    },
    {
      "cell_type": "code",
      "metadata": {
        "id": "oEjcW79erN-F"
      },
      "source": [
        "from networkx.algorithms.community.modularity_max import greedy_modularity_communities\n",
        "\n",
        "# perform the community detection\n",
        "c = list(greedy_modularity_communities(ZKC_graph))\n",
        "\n",
        "# print the number of communities which were detected\n",
        "print(\"Number of communities detected was\", len(c))"
      ],
      "execution_count": null,
      "outputs": []
    },
    {
      "cell_type": "code",
      "metadata": {
        "id": "cQ-1MYsExg6J"
      },
      "source": [
        "# let's print the members belonging to each cluster\n",
        "community_0 = sorted(c[0])\n",
        "community_1 = sorted(c[1])\n",
        "community_2 = sorted(c[2])\n",
        "\n",
        "print(community_0)\n",
        "print(community_1)\n",
        "print(community_2)\n",
        "\n",
        "# join the two smaller communities\n",
        "combined_community = community_1 + community_2\n"
      ],
      "execution_count": null,
      "outputs": []
    },
    {
      "cell_type": "markdown",
      "metadata": {
        "id": "q2YsepWcx631"
      },
      "source": [
        "As we can see, $3$ communities were detected, and as we would hope the nodes corresponding to Mr. Hi ($0$) and John A ($33$) have been assigned to different communities. We've joined together the two smaller communities, because we know that the club only split into two parts.\n",
        "\n",
        "We can visualise these results by plotting the communities as different colours. We will plot the nodes belonging to community 1 on the left, and the nodes belonging to community 2 on the right."
      ]
    },
    {
      "cell_type": "code",
      "metadata": {
        "id": "4puaxIQBfTzR"
      },
      "source": [
        "# create the figure\n",
        "fig, axs = plt.subplots()\n",
        "\n",
        "# make a vector of locations for each of the nodes\n",
        "location = np.zeros([34, 2])\n",
        "\n",
        "# initially just assign them a random value\n",
        "for n in range(34):\n",
        "  location[n, :] = np.random.rand(1, 2)\n",
        "\n",
        "# now add 3 to any of the entries in the combined community\n",
        "for c in combined_community:\n",
        "  location[c, 0] += 3;\n",
        "\n",
        "# now plot all the members of each community - with one in green and the other in purple like the previous figure\n",
        "axs.plot(location[community_0, 0], location[community_0, 1], 'go', markersize = 10)\n",
        "axs.plot(location[combined_community, 0], location[combined_community, 1], 'mo', markersize = 10)\n",
        "\n",
        "# now need to plot the connections between members\n",
        "for i in range(34):\n",
        "  for j in range(i, 34):\n",
        "\n",
        "    # if a connection between i and j exists, plot the connection\n",
        "    if A[i, j] == 1:\n",
        "      axs.plot([location[i, 0], location[j, 0]], [location[i, 1], location[j, 1]], 'k', alpha = 0.5, linestyle='dashed', linewidth = 0.5)\n",
        "\n",
        "# include some labels to make the figure look pretty\n",
        "plt.xticks([0.5, 3.5], [\"John A's club\", \"Mr. Hi's club\"])\n",
        "plt.yticks([])\n",
        "\n",
        "# show the figure\n",
        "plt.show()"
      ],
      "execution_count": null,
      "outputs": []
    },
    {
      "cell_type": "markdown",
      "metadata": {
        "id": "NiqOzRnw_G8C"
      },
      "source": [
        "By combining these two communities, we have split the network into two groups - the green, which we predict to join John A's club, and the purple which we predict ot join Mr. Hi's group. Comparing these assignments to the labels indicating the true groupings, we see that only one node has been incorrectly predicted, indicating a an accuracy rate of approximately $94$%.\n",
        "\n"
      ]
    }
  ]
}