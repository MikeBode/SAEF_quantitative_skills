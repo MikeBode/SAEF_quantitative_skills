{
  "nbformat": 4,
  "nbformat_minor": 0,
  "metadata": {
    "colab": {
      "name": "Games_between_NGOs.ipynb",
      "provenance": [],
      "collapsed_sections": []
    },
    "kernelspec": {
      "display_name": "Python 3",
      "name": "python3"
    },
    "language_info": {
      "name": "python"
    }
  },
  "cells": [
    {
      "cell_type": "markdown",
      "metadata": {
        "id": "4U4cQHPvKntf"
      },
      "source": [
        "# Strategic games between conservation NGOs\n",
        "We're going to start by importing a few packages that Python uses to do the jobs we'll need. Calcuations using matrices, plotting graphs, and so on. As before, these aren't really important to understand at the moment.\n",
        "\n",
        "Remember, to run these little blocks of code, hover your mouse over the number in the top left hand corner (e.g., [2] below), and press the \"play\" icon. Run each block of code you come across."
      ]
    },
    {
      "cell_type": "code",
      "metadata": {
        "id": "mWpnyK4xLdem"
      },
      "source": [
        "# This cell loads libraries that we need\n",
        "import matplotlib.pyplot as plt\n",
        "import numpy as np\n",
        "import math\n",
        "import pandas as pd\n",
        "import matplotlib as mpltlb\n",
        "\n",
        "%matplotlib inline"
      ],
      "execution_count": 1,
      "outputs": []
    },
    {
      "cell_type": "markdown",
      "metadata": {
        "id": "dTGplNIAK7_q"
      },
      "source": [
        "##Conservation fundraising as a zero sum game\n",
        "In this model, we have two conservation organisations who want to do two things. First, they want to do good conservation work. However, second, they need solid conservation donations to undertake such work. Their first step is therefore to secure those funds.\n",
        "\n",
        "Conservation donations are (in many respects) a \"zero sum game\". That is, every dollar that is donated to The Nature Conservancy, won't be donated to the World Wide Fund for Nature. And neither of those dollars can flow to Conservation International. Organisations are therefore in competition, and may act strategically towards each other.\n",
        "\n",
        "Since donors are interested in different aspects of conservation, the choices made by conservation NGOs will affect the amount of funding they can raise. If they were to change their focus a bit, they might gain some new donors, but lose some old donors. \n",
        "\n",
        "We're going to represent an NGO's focus as a location on a one-dimensional number line between zero and one. \n",
        "\n",
        "$x=0$ |- - - - - - - - - - - - - - - - - - - - - - - - - - - - - - - - - - - - - - -- - - | $x=1$\n",
        "\n",
        "This is \"conservation focus\" space, or some such thing. At the left hand end, near $x = 0$, we have actors are are interested in protecting wilderness areas from deforestation. At the right hand end, near $x = 1$, we have actors are are interested in restoring degraded and cleared ecosystems. All of our actors -- donors and conservation NGOs -- exist somewhere in this space. We're going to assume that donors are stationary, and that conservation NGOs can move.\n",
        "\n",
        "### NGO decisions\n",
        "\n",
        "An example of a strategic landscape from the NGO perspective might be:\n",
        "\n",
        "$x=0$ |- - $x_{N_1}$ - - - - - - - - - - - - - - - - - - - - - - - - - - - - $x_{N_2}$ - - - | $x=1$\n",
        "\n",
        "Here, NGO 1 have located themselves at $x_{N_1}$, near to $x=0$, because they're talking a lot about protecting wilderness areas from deforestation. In Australia, this might represent The Wilderness Society.\n",
        "\n",
        "NGO 2 have located themselves at $x_{N_2}$, near to $x=1$. They're going to be restoring heavily degraded forests. In the Australian conservation sector, that might represent Greening Australia. \n",
        "\n",
        "Note that these locations may reflect an actual choice about where and what they want to work on, but it could also reflect something more symbolic (e.g., how they market themselves)."
      ]
    },
    {
      "cell_type": "code",
      "metadata": {
        "colab": {
          "base_uri": "https://localhost:8080/"
        },
        "id": "9PkH1yrPKmCW",
        "outputId": "67ce6322-a636-4e83-85fa-258a234d4767"
      },
      "source": [
        "# Let's give these two organisations their initial locations. We'll put the \n",
        "# values into the same little 2x1 vector. (Don't forget that Python calls the\n",
        "# first element of the vector location \"0\", and then counts forward from there)\n",
        "NGO_focus = np.array([0.05, 0.9]);\n",
        "print(\"NGO 1 is working at location x =\",NGO_focus[0])\n",
        "print(\"NGO 2 is working at location x =\",NGO_focus[1])"
      ],
      "execution_count": 6,
      "outputs": [
        {
          "output_type": "stream",
          "name": "stdout",
          "text": [
            "NGO 1 is working at location x = 0.05\n",
            "NGO 2 is working at location x = 0.9\n"
          ]
        }
      ]
    },
    {
      "cell_type": "markdown",
      "metadata": {
        "id": "kuF5T-mNM2qJ"
      },
      "source": [
        "\n",
        "### Donor decisions\n",
        "Donors are located in this same space. We will assume that they are evenly distributed between zero and one (i.e., a uniform distribution). Each donor will look at the different NGOs, and they will allocate all of their funds to the NGO who is most closely aligned to their values. We will estimate \"alignment\" as the distance between the donor and each NGO.\n",
        "\n",
        "$𝑥=0$ |- - $x_{N_1}$ - - - - $x_d$ - - - - - - - - - - - - - - - - - - - - - - - $x_{N_2}$ - - - | $x=1$\n",
        "\n",
        "In this diagram, the donor located at the point $x=x_d$ would allocate their funds to NGO 1, since: \n",
        "\n",
        "$|x_{N_1}-x_d| < |x_{N_2}-x_d|$\n"
      ]
    },
    {
      "cell_type": "code",
      "metadata": {
        "colab": {
          "base_uri": "https://localhost:8080/"
        },
        "id": "YmtlzvS9MCcu",
        "outputId": "83bae6e4-16d8-4818-b3b7-a0a6218a75e2"
      },
      "source": [
        "# Donors are distributed evenly in space, between 0 and 1\n",
        "# A donor will fund the NGO that works closest to their interests. Thus the total funding \n",
        "# allocated to each NGO will depend on the midpoint between the two. Donors below the midpoint\n",
        "# will fund the first NGO, donors above the midpoint will fund the others.\n",
        "\n",
        "# First, calculate the midpoint\n",
        "Midpoint = 0.5*(NGO_focus[0] + NGO_focus[1])\n",
        "NGO1_totalbudget = Midpoint;\n",
        "NGO2_totalbudget = 1-Midpoint; \n",
        "\n",
        "print(\"NGO 1 has secured a budget of \",NGO1_totalbudget)\n",
        "print(\"NGO 2 has secured a budget of \",NGO2_totalbudget)"
      ],
      "execution_count": 11,
      "outputs": [
        {
          "output_type": "stream",
          "name": "stdout",
          "text": [
            "NGO 1 has secured a budget of  0.47500000000000003\n",
            "NGO 2 has secured a budget of  0.5249999999999999\n"
          ]
        }
      ]
    },
    {
      "cell_type": "markdown",
      "metadata": {
        "id": "i4k0ya7kOcbx"
      },
      "source": [
        "So it looks like the donors are giving a little more money to NGO 2 at the moment.\n",
        "\n",
        "### Donor satisfaction\n",
        "So a donor will give all their funding to the closest NGO, but that doesn't mean they're equally happy with all NGOs. We're going to assume that they are most happy when that NGO shares their values. The further away the NGO's focus is from their own, the less happy they become. We can therefore calculate the total happiness of all the donors $H$ by calculating the sum of all the (minimum) distances between NGOs and donors:\n",
        "\n",
        "$H = \\sum_i min_j {| x_{N_j} - x_{d_i}|}$"
      ]
    },
    {
      "cell_type": "code",
      "metadata": {
        "colab": {
          "base_uri": "https://localhost:8080/"
        },
        "id": "aZ1ndHndOaKb",
        "outputId": "daa84881-a0fc-45c3-f294-927884b61201"
      },
      "source": [
        "# A donor's happiness is determined by the distance between their interests, and the donor they\n",
        "# choose to fund. We therefore calculate the distance to the nearest NGO, and sum it up across all\n",
        "# of the donors\n",
        "\n",
        "# Let's make 101 donors, spaced equally through the focus landscape\n",
        "DonorLocation = np.linspace(0, 1, 101) \n",
        "\n",
        "# How far away is NGO1 and NGO2 from each of the donors?\n",
        "DonorHappiness_NGO1 = 1-abs(DonorLocation-NGO_focus[0]);\n",
        "DonorHappiness_NGO2 = 1-abs(DonorLocation-NGO_focus[1]);\n",
        "\n",
        "# The donor is as happy as the closest NGO. We're going to integrate across\n",
        "#  all the donors by using their average happiness.\n",
        "DonorHappiness = np.mean(np.maximum(DonorHappiness_NGO1, DonorHappiness_NGO2))\n",
        "\n",
        "print(\"Average donor happiness is\",DonorHappiness)"
      ],
      "execution_count": 12,
      "outputs": [
        {
          "output_type": "stream",
          "name": "stdout",
          "text": [
            "Average donor happiness is 0.8142574257425743\n"
          ]
        }
      ]
    },
    {
      "cell_type": "markdown",
      "metadata": {
        "id": "nr4g5yebPZye"
      },
      "source": [
        "We're being utilitarian here, and assuming that our overarching conservation goal is the greatest happiness for the greatest number. \n",
        "\n",
        "### Iterative strategic decision-making\n",
        "\n",
        "Both NGOs want to maximise the funds they can raise, so that they can do as much conservation work as possible. For this reason, they're going to try new things to gain more conservation funds. In our one-dimensional space, they're going to move a little bit to the left, or a little bit to the right, to see if they get more money as a result. If their trial step gets them more funds, they're going to stick with it. If it turns out that they lose donors, they'll go back to their original location and try something new.\n",
        "\n",
        "It's important to note that this behaviour is strategic, since the actions of one NGO will affect the achievements of the other. If NGO 1 moves towards NGO 2, they're going to take some of their donors from them (the ones that are closer to NGO 1). But this decision is not necessarily *consciously* strategic - an NGO who was making blind and random decisions could still look at their donations, and reinforce decisions that yielded higher totals. \n",
        "\n",
        "In the following code, each NGO will undertake this random walk process, moving left and right at random, and accepting steps that deliver higher donation totals. We're going to watch them move around strategically for a few hundred iterations, and see where they end up."
      ]
    },
    {
      "cell_type": "code",
      "metadata": {
        "colab": {
          "base_uri": "https://localhost:8080/",
          "height": 404
        },
        "id": "0PHI_aGRMM_R",
        "outputId": "bc39d0ba-3ab8-4df3-9609-cbb26e9c77fe"
      },
      "source": [
        "# Now we allow the NGOs to move randomly in space. They will accept a change if it improves their\n",
        "# funding situation (which allows them to do more conservation). \n",
        "\n",
        "# First initialise a figure, so we can plot the location of the NGOs through time\n",
        "fig, axs = plt.subplots()\n",
        "\n",
        "# Set the size of the step they'll try out in each direction and the number of steps to take\n",
        "NGO_focus = np.array([0.05, 0.9]);\n",
        "littlestep = 0.02;\n",
        "steps = range(1, 201)\n",
        "\n",
        "# plot the intitial state of the system. We're going to plot the first NGO \n",
        "# as a blue circle, the second NGO as a red circle, and we're going to plot\n",
        "# the average happiness of the donors as a black circle.\n",
        "axs.plot(0, NGO_focus[0], 'bo', markersize = 3)\n",
        "axs.plot(0, NGO_focus[1], 'ro', markersize = 3)\n",
        "\n",
        "for s in steps:\n",
        "\n",
        "  # Choose a random NGO to move. This involves choosing 1 or 2 at random\n",
        "  MovingNGO = np.random.randint(1, 3)\n",
        "\n",
        "  # Choose a random direction to move in. \n",
        "  dir = np.random.randint(1, 3)\n",
        "\n",
        "  # set the potential new NGO positions\n",
        "  New_NGO_focus = np.copy(NGO_focus)\n",
        "\n",
        "  # shift the NGO location in the chosen random direction\n",
        "  if MovingNGO == 1:\n",
        "\n",
        "    # move in the specified direction if possible\n",
        "    if dir == 2 and NGO_focus[0] > 0:\n",
        "      New_NGO_focus[0] -= littlestep\n",
        "    else:\n",
        "      New_NGO_focus[0] += littlestep\n",
        "\n",
        "  else:\n",
        "\n",
        "    # move in the specified direction if possible\n",
        "    if dir == 1 and NGO_focus[1] < 1:\n",
        "      New_NGO_focus[1] += littlestep\n",
        "    else:\n",
        "      New_NGO_focus[1] -= littlestep\n",
        "\n",
        "  # want to sort the NGOs so that NGO2 is always positioned above NGO1\n",
        "  if New_NGO_focus[0] > New_NGO_focus[1]:\n",
        "    dummyVar = New_NGO_focus[0]\n",
        "    New_NGO_focus[0] = New_NGO_focus[1]\n",
        "    New_NGO_focus[1] = dummyVar\n",
        "\n",
        "  # Calculate their new budget, and compare it to the old budget *for that organisation\n",
        "  New_NGO1_totalbudget = np.mean(New_NGO_focus)\n",
        "  New_NGO2_totalbudget = 1 - np.mean(New_NGO_focus)\n",
        "\n",
        "  # is the NGO that moved happier? If so it will take that step\n",
        "  if MovingNGO == 1:\n",
        "\n",
        "    if New_NGO1_totalbudget > NGO1_totalbudget:\n",
        "\n",
        "      NGO_focus = np.copy(New_NGO_focus)\n",
        "      NGO1_totalbudget = New_NGO1_totalbudget\n",
        "      NGO2_totalbudget = New_NGO2_totalbudget\n",
        "\n",
        "  else:\n",
        "\n",
        "    if New_NGO2_totalbudget > NGO2_totalbudget:\n",
        "\n",
        "      NGO_focus = np.copy(New_NGO_focus)\n",
        "      NGO1_totalbudget = New_NGO1_totalbudget\n",
        "      NGO2_totalbudget = New_NGO2_totalbudget\n",
        "\n",
        "  # How do the donors feel about the change?\n",
        "  DonorHappiness_NGO1 = 1 - abs(DonorLocation - NGO_focus[0]);\n",
        "  DonorHappiness_NGO2 = 1 - abs(DonorLocation - NGO_focus[1]);\n",
        "  DonorHappiness = np.mean(np.maximum(DonorHappiness_NGO1, DonorHappiness_NGO2));\n",
        "\n",
        "  axs.plot(s, NGO_focus[0], 'bo', markersize = 3)\n",
        "  axs.plot(s, NGO_focus[1], 'ro', markersize = 3)\n",
        "  axs.plot(s, DonorHappiness,'ko', markersize = 3)\n",
        "\n",
        "# add some features\n",
        "axs.legend([\"NGO 1\", \"NGO 2\", \"Donor Happiness\"])\n",
        "axs.set_xlabel(\"Number of iterations elapsed\")\n",
        "axs.set_ylabel(\"NGO Positions and Donor Happiness\")\n",
        "axs.set_title(\"Behaviour of NGO's over time\")\n",
        "\n",
        "# show the plot\n",
        "plt.rcParams[\"figure.figsize\"] = (10,6)\n",
        "plt.show()"
      ],
      "execution_count": 20,
      "outputs": [
        {
          "output_type": "display_data",
          "data": {
            "image/png": "[encoded data removed]",
            "text/plain": [
              "<Figure size 720x432 with 1 Axes>"
            ]
          },
          "metadata": {
            "needs_background": "light"
          }
        }
      ]
    }
  ]
}