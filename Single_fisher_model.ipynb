{
  "nbformat": 4,
  "nbformat_minor": 0,
  "metadata": {
    "colab": {
      "name": "Single_fisher_model.ipynb",
      "provenance": [],
      "collapsed_sections": []
    },
    "kernelspec": {
      "name": "python3",
      "display_name": "Python 3"
    },
    "language_info": {
      "name": "python"
    }
  },
  "cells": [
    {
      "cell_type": "markdown",
      "metadata": {
        "id": "UmG2JV6jUDS1"
      },
      "source": [
        "### Setting up the Python work environment\n",
        "We're going to start by importing a few packages that Python uses to do the jobs we'll need. Calcuations using matrices, plotting graphs, and so on. These aren't really important to understand at the moment.\n",
        "\n",
        "To run these little blocks of code, hover your mouse over the number in the top left hand corner (e.g., [2] below), and press the \"play\" icon. Run each block of code you come across."
      ]
    },
    {
      "cell_type": "code",
      "metadata": {
        "id": "v76qRFq2kG6L"
      },
      "source": [
        "# This cell loads libraries that we need\n",
        "import matplotlib.pyplot as plt\n",
        "import numpy as np\n",
        "import math\n",
        "import pandas as pd\n",
        "import matplotlib as mpltlb"
      ],
      "execution_count": null,
      "outputs": []
    },
    {
      "cell_type": "markdown",
      "metadata": {
        "id": "shV9dFlohjQd"
      },
      "source": [
        "### The Gordon-Shaefer harvested population model\n",
        "\n",
        "One of the earliest applications of mathematics in applied ecology was for the management of fisheries. In the absence of harvest pressure, populations of fish will increase when they are at low abundance, and decrease when their abundance outstrips the capacity of the environment.\n",
        "\n",
        "The [Gordon-Schaefer](https://en.wikipedia.org/wiki/Gordon-Schaefer_model) model describes these dynamics using the a simple discrete time recurrence equation, along the lines of:\n",
        "\n",
        "$n_{t+1} = n_t + r n_t (1 - \\frac{n_t}{K}) - h n_t$\n",
        "\n",
        "Here, $n_{t}$ is the size of the population in year $t$ (e.g., if the abundance of the Australian east coast humpback whale population was $20000$ in 2010, then $n_{2010} = 20000$). At its lowest, their abundance dropped to approximately $n_{1955} = 500$ \n",
        "\n",
        "The value of $r$ tells us about the intrinsic growth rate of the population, where large values indicate fast growth and small values indicate slow growth. We believe the humpback growth rate is approximately $r=1.08$ The parameter $K$ tell us the maximum population that the system can support - for humpbacks on the east coast, we believe this value is around $30000$."
      ]
    },
    {
      "cell_type": "markdown",
      "metadata": {
        "id": "ACOFO0jhhYYg"
      },
      "source": [
        "Let's start by entering the values of the parameters into the workspace. "
      ]
    },
    {
      "cell_type": "code",
      "metadata": {
        "id": "BA-0k0nkkK9z"
      },
      "source": [
        "# This cell sets the value of the variable chosen_r \n",
        "# then plots the dynamical system for 100 time-steps\n",
        "r = 0.08 # set the growth rate at 8% per year\n",
        "K = 30000; # set the maximum possible population size\n",
        "n = 500; # set the initial population size\n",
        "h = 0; # set the harvest rate to zero to start with.\n"
      ],
      "execution_count": null,
      "outputs": []
    },
    {
      "cell_type": "markdown",
      "metadata": {
        "id": "5P3Vtlv3h6zF"
      },
      "source": [
        "Let's just try a couple of timestep iterations of the Gordon-Shaefer model, to see what happens. "
      ]
    },
    {
      "cell_type": "code",
      "metadata": {
        "colab": {
          "base_uri": "https://localhost:8080/"
        },
        "id": "LSgG_tjniA0O",
        "outputId": "b643aae3-6b65-48b8-a446-a0309a9a4529"
      },
      "source": [
        "n_1 = 500\n",
        "n_2 = n_1 + r*n_1*(1-n_1/K) - h*n_1\n",
        "n_3 = n_2 + r*n_2*(1-n_2/K) - h*n_2\n",
        "print(\"Abundance in year 2 is \", round(n_2))\n",
        "print(\"Abundance in year 3 is \", round(n_3))"
      ],
      "execution_count": null,
      "outputs": [
        {
          "output_type": "stream",
          "name": "stdout",
          "text": [
            "Abundance in year 2 is  539\n",
            "Abundance in year 3 is  582\n"
          ]
        }
      ]
    },
    {
      "cell_type": "markdown",
      "metadata": {
        "id": "z-B5SRfzhwzs"
      },
      "source": [
        "So this population is going to grow over time. This makes sense, since it starts off well below carrying capacity, since it has an 8% growth rate, and since there is currently no fishing harvest going on ($h=0$).\n",
        "\n",
        "### Simulating the population over many years\n",
        "\n",
        "So now we can use a FOR loop to simulate the population for a lot of years. First, we set up two vectors (ns and ts) that will store the population size and year throughout the simulation."
      ]
    },
    {
      "cell_type": "code",
      "metadata": {
        "colab": {
          "base_uri": "https://localhost:8080/",
          "height": 296
        },
        "id": "tU8pScJ_hknW",
        "outputId": "622f4712-2c68-444d-f330-82a94cdb2a5a"
      },
      "source": [
        "Y = 150; # set the number of years to simulate over\n",
        "n = 250; # set the initial population size again, very low this time.\n",
        "h = 0; # set the harvest rate to zero\n",
        "\n",
        "ns = np.zeros(Y+1); # This vector will store the population size\n",
        "ts = np.zeros(Y+1); # This vector will store the year\n",
        "ys = range(0,Y+1);\n",
        "\n",
        "for y in ys:\n",
        "\t# Record the current value of x for plotting\n",
        "\tns[y] = n;\n",
        "\tts[y] = y+1955;\n",
        "\t# Now apply the logistic map to the current value of x,\n",
        "\t# yielding a new value of x.\n",
        "\tn = n + r * n * (1 - n/K) - h*n;\n",
        "\n",
        "Population_no_fishing = n\n",
        "print(\"Without fishing, the population reaches\",round(Population_no_fishing))\n",
        "plt.plot(ts, ns, '-');\n",
        "plt.xlabel(\"Year\");\n",
        "plt.ylabel(\"Humpback abundance\");"
      ],
      "execution_count": null,
      "outputs": [
        {
          "output_type": "stream",
          "name": "stdout",
          "text": [
            "Without fishing, the population reaches 29982\n"
          ]
        },
        {
          "output_type": "display_data",
          "data": {
            "image/png": "[encoded data removed]",
            "text/plain": [
              "<Figure size 432x288 with 1 Axes>"
            ]
          },
          "metadata": {
            "needs_background": "light"
          }
        }
      ]
    },
    {
      "cell_type": "markdown",
      "metadata": {
        "id": "_5f8X9aOkJfM"
      },
      "source": [
        "This figure shows the classic logistic curve, with a slow initial rate of increase (since the population is small and doesn't produce a lot of offspring), followed by a rapid phase. Finally, as the population approaches its carrying capacity, resource constraints, disease, predation and such forces slow the growth down to zero.\n",
        "\n",
        "### Calculating the maximum sustainable harvest rate for the population\n",
        "\n",
        "Now let's allow the harvest rate to be nonzero. Every year, we're going to remove a proportion $h$ of the population, and sell it to make some revenue. We want to choose a value of $h$ that maximises this revenue over the long-term."
      ]
    },
    {
      "cell_type": "code",
      "metadata": {
        "colab": {
          "base_uri": "https://localhost:8080/"
        },
        "id": "-l6gclkz8uiL",
        "outputId": "63ad27c8-9506-4a5f-da93-f3ad88f2b15d"
      },
      "source": [
        "# With only a single fisher in the system\n",
        "# fiddle with their harvest rate to maximise their profits\n",
        "\n",
        "## SET A HARVEST RATE IN THE LINE BELOW. CHOOSE A NUMBER BETWEEN 0 AND 1 ###\n",
        "h = 0; # set the harvest rate\n",
        "Y = 1000; # set the number of years to simulate over\n",
        "n = 20000; # set the initial population size again, very low this time.\n",
        "\n",
        "ys = range(0,Y+1);\n",
        "for y in ys:\n",
        "    n = n + r*n*(1-n/K) - h*n;\n",
        "\n",
        "# determine the equilibrium profit\n",
        "EquilProfit = h*n; \n",
        "MSY_Single = EquilProfit\n",
        "print('The fish stock declines to =', round(n))\n",
        "print('MSY for a single fisher =', round(MSY_Single))"
      ],
      "execution_count": null,
      "outputs": [
        {
          "output_type": "stream",
          "name": "stdout",
          "text": [
            "The fish stock declines to = 30000\n",
            "MSY for a single fisher = 0\n"
          ]
        }
      ]
    },
    {
      "cell_type": "markdown",
      "metadata": {
        "id": "oM9zwktNloKq"
      },
      "source": [
        "This is the single-owner MSY. That is, the maximum sustainable yield when a single fisher controls the whole population."
      ]
    }
  ]
}