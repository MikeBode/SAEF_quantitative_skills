{
  "nbformat": 4,
  "nbformat_minor": 0,
  "metadata": {
    "colab": {
      "name": "Network_metric_calculations.ipynb",
      "provenance": [],
      "collapsed_sections": []
    },
    "kernelspec": {
      "display_name": "Python 3",
      "name": "python3"
    },
    "language_info": {
      "name": "python"
    }
  },
  "cells": [
    {
      "cell_type": "code",
      "metadata": {
        "id": "sRA0Ps7nBT_y"
      },
      "source": [
        "# This cell loads libraries that we need\n",
        "import matplotlib.pyplot as plt\n",
        "import numpy as np\n",
        "import math\n",
        "import pandas as pd\n",
        "import matplotlib as mpltlb"
      ],
      "execution_count": null,
      "outputs": []
    },
    {
      "cell_type": "markdown",
      "metadata": {
        "id": "pB0q1USymX3u"
      },
      "source": [
        "## Network metrics using larval connectivity graphs\n",
        "We're going to start by importing a connectivity matrix for reefs in the central Great Barrier Reef. This data was generated using a high-resolution hydrodynamic model of water flow in the GBR lagoon, for 1998 (we chose this year because it experienced the first really large mass coral bleaching of the modern era).\n",
        "\n",
        "Coral reef fishes generally spend their whole lives on a single reef. However, every so often (e.g., annually) they take part in broadcast spawning events where fertilised eggs are released into the pelagic environment. This exchange is critical for understanding the ecological and evolutionary dynamics of the reef.\n",
        "\n",
        "In the code that follows, we're going to load data on this process, and use it to calculate and interpret a couple of network metrics."
      ]
    },
    {
      "cell_type": "markdown",
      "metadata": {
        "id": "h-u5i7q51uMA"
      },
      "source": [
        "### Graph nodes\n",
        "By graph analogy, each of the patch reefs in the GBR are nodes in a network. There are 320 reefs being modelled, and therefore 320 nodes. \n",
        "\n",
        "We are going to import the latitude and longitude of each of these nodes, and plot them on a map of Australia.\n"
      ]
    },
    {
      "cell_type": "code",
      "metadata": {
        "id": "R--R_fId159a"
      },
      "source": [
        "# load data on the latitude and longitude of the centroids of the GBR reefs\n",
        "url = 'https://raw.githubusercontent.com/MikeBode/SAEF_quantitative_skills/main/centroid.csv'\n",
        "centroid = pd.read_csv(url, error_bad_lines=False, header=None)\n",
        "print(centroid)\n",
        "centroid = centroid.to_numpy()"
      ],
      "execution_count": null,
      "outputs": []
    },
    {
      "cell_type": "markdown",
      "metadata": {
        "id": "GRpqUM0c2xcV"
      },
      "source": [
        "Now we need to load data that will allow us to make a map of Australia."
      ]
    },
    {
      "cell_type": "code",
      "metadata": {
        "id": "icY3Wugu2BqB"
      },
      "source": [
        "# load data on the outline of the Australian coastline. We'll need this for later\n",
        "url = 'https://raw.githubusercontent.com/MikeBode/SAEF_quantitative_skills/main/AustOutline.csv'\n",
        "AustOutline = pd.read_csv(url, error_bad_lines=False, header=None)\n",
        "\n",
        "# convert this dataframe object to a numPy array so the Path command works\n",
        "AustOutNP = AustOutline.to_numpy()\n",
        "\n",
        "# plot Australian outline using the patch command\n",
        "# plot the reef locations as dots in top\n",
        "from matplotlib.path import Path\n",
        "from matplotlib.patches import PathPatch\n",
        "\n",
        "# Set up a figure called \"ax\"\n",
        "fig, ax = plt.subplots()\n",
        "\n",
        "# Plot the outline of Australia as a long squiggly line\n",
        "ax.plot(AustOutline.iloc[:, 0], AustOutline.iloc[:, 1])\n",
        "path = Path(AustOutNP)\n",
        "\n",
        "# Fill the line in with a simple color\n",
        "patch = PathPatch(path, facecolor='C0', edgecolor='none', alpha=0.3)\n",
        "ax.add_patch(patch)\n",
        "ax.set_aspect('equal', 'box')\n",
        "\n",
        "# plot the locations of all the reefs as dots\n",
        "ax.plot(centroid[:, 0], centroid[:, 1], 'k.', markersize = 5)\n",
        "plt.xlim([144.4,147.7]) # might need to do axs.xlim but idk\n",
        "plt.ylim([-19.25,-13.6])\n",
        "ax.set_aspect('equal', 'box')\n",
        "plt.rcParams[\"figure.figsize\"] = (10, 7)\n",
        "\n",
        "plt.show()"
      ],
      "execution_count": null,
      "outputs": []
    },
    {
      "cell_type": "markdown",
      "metadata": {
        "id": "ybUet83w242N"
      },
      "source": [
        "### Graph edges\n",
        "\n",
        "In our graphical analogy of the GBR's reef fish populations, each reef is joined by larval connectivity (demographic exchange of baby fishes) that create edges between the nodes.\n",
        "\n",
        "Each of the 320 nodes can be connected to any of the other 320 nodes, including themselves (a larvae can spend time floating in the GBR lagoon and end up returning to its natal reef). There are therefore $320 \\times 320$ possible edges - more than one million.\n",
        "\n",
        "We're going to load this edge data as a \"connectivity matrix\". This is a $320 \\times 320$ matrix where each element measures the probability of a given edge. For example, on row 5, column 7, we have the element $p_{5,7}$. This is the probability that a larvae leaving from reef 5 is going to land safely on reef 7. \n",
        "\n",
        "### Visualising the graph as a matrix\n",
        "Let's load this whole matrix and have a look at it."
      ]
    },
    {
      "cell_type": "code",
      "metadata": {
        "id": "LwvUDa0HsUfk"
      },
      "source": [
        "# load data on a connectivity network using Pandas\n",
        "url = 'https://raw.githubusercontent.com/MikeBode/SAEF_quantitative_skills/main/ConnMat.csv'\n",
        "C = pd.read_csv(url, error_bad_lines=False, header=None)\n",
        "\n",
        "# Show what the data looks like\n",
        "print(C)\n",
        "\n",
        "# need to convert C to a numpy array, which is easier to deal with\n",
        "C = C.to_numpy()\n"
      ],
      "execution_count": null,
      "outputs": []
    },
    {
      "cell_type": "markdown",
      "metadata": {
        "id": "Cy8HHvW5sbEN"
      },
      "source": [
        "This matrix is too large to look at as text. Let's visualise the structure of the edges as a sparse matrix image. This type of image shows nonzero elements as coloured, and zero elements as white. It doesn't tell us how strong the connections are, but it does give us an idea of the structure."
      ]
    },
    {
      "cell_type": "code",
      "metadata": {
        "id": "HrFLpLnFsZBF"
      },
      "source": [
        "# create a new figure\n",
        "fig, axs = plt.subplots()\n",
        "\n",
        "# The command \"spy\" produces a visualisation of nonzero elements in a matrix\n",
        "plt.spy(C, markersize=1)\n",
        "axs.set_xlabel('Destination reef',fontsize = 18);\n",
        "axs.set_ylabel('Source reef', fontsize = 18);\n",
        "plt.rcParams[\"figure.figsize\"] = (7,7)\n",
        "plt.show()"
      ],
      "execution_count": null,
      "outputs": []
    },
    {
      "cell_type": "markdown",
      "metadata": {
        "id": "gSVNlDZQtQBT"
      },
      "source": [
        "The first thing we see is that the graph is both dense and sparse. There are lots of connections that don't exist (the white space), and lots that do (the blue parts). We can also quickly see that most of the strong connections are near the diagonal of the matrix - near the line extending from the top left hand of the matrix to the bottom right hand. Of course, not all these elements are *on* the diagonal - most are just near it. That's because larvae tend to be transported to reefs that are nearby their natal reef. The further away we get from the natal reef, the weaker the connections, *on average*. \n",
        "\n",
        "The second thing we notice is the strange white space in the lower left quadrant of the matrix. Looking carefully, there are almost no connections coming out of reefs 200-320, and going into reefs 0-200. The opposite is not true. There are plenty of connections coming out of reefs 0-200 and ending in reefs 200-300. Something large and asymmetric is going on in this network.\n"
      ]
    },
    {
      "cell_type": "markdown",
      "metadata": {
        "id": "AFk7-IIW40X9"
      },
      "source": [
        "### Mapping the graph onto space\n",
        "Now let's visualise this graph as connections between points in space. We're going to take our map of the reefs and the Australian coastline, and we're going to put edges (lines) in between those nodes that are strongly connected."
      ]
    },
    {
      "cell_type": "code",
      "metadata": {
        "id": "tR7nH3YRs59o"
      },
      "source": [
        "# create a new figure\n",
        "fig, axs = plt.subplots()\n",
        "axs.plot(AustOutNP[:,0],AustOutNP[:,1],'k')\n",
        "\n",
        "# plot the connections between reef centroids\n",
        "\n",
        "# Go through every source reef in a loop\n",
        "for i in range(320):\n",
        "\n",
        "  # Now go through every destination reef with a NESTED loop\n",
        "  for j in range(320):\n",
        "\n",
        "    # We're going to plot just the reefs in the southern section of our model.\n",
        "    # That is, those further south than 18 degrees.\n",
        "    if centroid[i, 1] < -18 and centroid[j, 1] < -18:\n",
        "\n",
        "      ### SET THIS VALUE TO GRAPH ONLY THE STRONGEST LINKS\n",
        "      EdgeStrengthThreshold = 0.00001;\n",
        "\n",
        "      # Only plot a link if it's stronger than the threshold\n",
        "      if C[i, j] > EdgeStrengthThreshold:\n",
        "\n",
        "        # This command plots a link between a source reef and a destination reef\n",
        "        axs.plot(centroid[[i, j], 0], centroid[[i, j], 1], '-', color = [0.8, 0.8, 0.8])\n",
        "\n",
        "\n",
        "# Plot the controids themselves. We need to plot these on top, or they will be \n",
        "# hidden by all the edges\n",
        "axs.plot(centroid[:, 0], centroid[:, 1], '.', markersize = 10, color = 'm')\n",
        "\n",
        "# Let's zoom into the map so we don't see irrelvant locations\n",
        "plt.xlim([146, 147.5]) # This zooms in the x direction (longitudinally)\n",
        "plt.ylim([-19, -18]) # This zooms in the y direction (latitudinally)\n",
        "\n",
        "axs.set_aspect('equal', 'box')\n",
        "plt.rcParams[\"figure.figsize\"] = (7, 7)\n",
        "plt.show()"
      ],
      "execution_count": null,
      "outputs": []
    },
    {
      "cell_type": "markdown",
      "metadata": {
        "id": "6l-kaW8l6y8w"
      },
      "source": [
        "### STOP HERE"
      ]
    },
    {
      "cell_type": "markdown",
      "metadata": {
        "id": "0VhItg4Gvd_F"
      },
      "source": [
        "### Calculating network metrics for the GBR dataset\n",
        "\n",
        "We're going to start simply, by calculating the degree of all the nodes in the network. The degree is the number of edges that either enter or leave a node."
      ]
    },
    {
      "cell_type": "code",
      "metadata": {
        "id": "oZJrgu5C7QDO"
      },
      "source": [
        "# Start by creating an array to store the values in\n",
        "OutDegree = np.zeros((320,1))\n",
        "\n",
        "for i in range(320):\n",
        "  for j in range(320):\n",
        "    if C[i,j] > 0:\n",
        "      OutDegree[i] = OutDegree[i] + 1\n",
        "\n",
        "# Repeat this process for the in degree\n",
        "InDegree = np.zeros((320,1))\n",
        "\n",
        "for i in range(320):\n",
        "  for j in range(320):\n",
        "    if C[i,j] > 0:\n",
        "      InDegree[j] = InDegree[j] + 1\n"
      ],
      "execution_count": null,
      "outputs": []
    },
    {
      "cell_type": "markdown",
      "metadata": {
        "id": "OK6rFHbK8rfG"
      },
      "source": [
        "Now let's plot the in and out degree as a colour associated with each node in the network."
      ]
    },
    {
      "cell_type": "code",
      "metadata": {
        "id": "pqW_jtcX8voU"
      },
      "source": [
        "# map the degree of each node in space\n",
        "fig, axs = plt.subplots()\n",
        "FS = 18;\n",
        "axs.plot(AustOutNP[:,0], AustOutNP[:,1],'k')\n",
        "\n",
        "# split the out degrees into quantiles\n",
        "Q = np.quantile(OutDegree, [0.2, 0.4, 0.6, 0.8]);\n",
        "CL = np.array([[0, 0.2, 1], [0, 1, 1], [0.5, 1, 0.5], [1, 1, 0], [1, 0.1, 0]])\n",
        "MS = 10\n",
        "\n",
        "for i in range(320):\n",
        "    \n",
        "  # plot the centroids in a different colour based on the quintile they occupy\n",
        "  if OutDegree[i] < Q[0]:\n",
        "    axs.plot(centroid[i, 0], centroid[i, 1], '.', markersize = MS, color = CL[0, :])\n",
        "  elif OutDegree[i] < Q[1]:\n",
        "    axs.plot(centroid[i, 0], centroid[i, 1], '.', markersize = MS, color = CL[1, :])\n",
        "  elif OutDegree[i] < Q[2]:\n",
        "    axs.plot(centroid[i, 0], centroid[i, 1], '.', markersize = MS, color = CL[2, :])\n",
        "  elif OutDegree[i] < Q[3]:\n",
        "    axs.plot(centroid[i, 0], centroid[i, 1], '.', markersize = MS, color = CL[3, :])\n",
        "  else:\n",
        "    axs.plot(centroid[i, 0], centroid[i, 1], '.', markersize = MS, color = CL[4, :])\n",
        "\n",
        "# split the in degrees into quantiles\n",
        "Q = np.quantile(InDegree, [0.2, 0.4, 0.6, 0.8])\n",
        "\n",
        "for i in range(320):\n",
        "    \n",
        "  # plot the centroids in a different colour based on the quintile they occupy\n",
        "  if InDegree[i] < Q[0]:\n",
        "    axs.plot(centroid[i, 0]+2, centroid[i, 1], '.', markersize = MS, color = CL[0, :])\n",
        "  elif InDegree[i] < Q[1]:\n",
        "    axs.plot(centroid[i, 0]+2, centroid[i, 1], '.', markersize = MS, color = CL[1, :])\n",
        "  elif InDegree[i] < Q[2]:\n",
        "    axs.plot(centroid[i, 0]+2, centroid[i, 1], '.', markersize = MS, color = CL[2, :])\n",
        "  elif InDegree[i] < Q[3]:\n",
        "    axs.plot(centroid[i, 0]+2, centroid[i, 1], '.', markersize = MS, color = CL[3, :])\n",
        "  else:\n",
        "    axs.plot(centroid[i, 0]+2, centroid[i, 1], '.', markersize = MS, color = CL[4, :])\n",
        "\n",
        "plt.text(145.25, -13.75, 'Out degree', horizontalalignment = 'center', fontsize = FS)\n",
        "plt.text(148.25, -13.75, 'In degree', horizontalalignment = 'center', fontsize = FS)\n",
        "plt.xlim([144.4, 150])\n",
        "plt.ylim([-19, -13.5])\n",
        "\n",
        "axs.set_aspect('equal', 'box')\n",
        "plt.rcParams[\"figure.figsize\"] = (7, 7)\n",
        "plt.show()\n"
      ],
      "execution_count": null,
      "outputs": []
    },
    {
      "cell_type": "markdown",
      "metadata": {
        "id": "2BWWH2fV-Hle"
      },
      "source": [
        "In this figure, blue markers have low degrees, and orange-red markers have high degrees. It's clear that the connectivity network at this point on the GBR has lots of outward connections in the north, and lots of inward connections in the south. This reinforces the asymmetry we saw in the network sparsity figure."
      ]
    },
    {
      "cell_type": "code",
      "metadata": {
        "id": "MxpcyRKV3v2c"
      },
      "source": [
        "# show histograms of the node degrees\n",
        "fig, axs = plt.subplots(3, 1)\n",
        "\n",
        "# first subplot\n",
        "axs[0].hist(OutDegree,25);\n",
        "axs[0].set_xlabel('Out degree distribution', fontsize = FS);\n",
        "axs[0].set_ylabel('Frequency', fontsize = FS);\n",
        "\n",
        "# second subplot\n",
        "axs[1].hist(InDegree,25);\n",
        "axs[1].set_xlabel('Out degree distribution', fontsize = FS);\n",
        "axs[1].set_ylabel('Frequency', fontsize = FS);\n",
        "plt.xlim([0, 320])\n",
        "\n",
        "# last two sublots\n",
        "axs[2].plot(InDegree, OutDegree, '.')\n",
        "plt.rcParams[\"figure.figsize\"] = (7, 12)\n",
        "plt.show()\n"
      ],
      "execution_count": null,
      "outputs": []
    },
    {
      "cell_type": "markdown",
      "metadata": {
        "id": "heS3JylOtyoA"
      },
      "source": [
        "### STOP HERE"
      ]
    },
    {
      "cell_type": "markdown",
      "metadata": {
        "id": "I5nB1j7X-sKt"
      },
      "source": [
        "### Network clustering \n",
        "\n",
        "Now we're going to calculate another metric associated with each node - it's clustering coefficient, as defined by Watts and Strogatz (1998). By their definition, the clustering coefficient is the proportion of potential triangles associated with a node that are in fact triangles.\n",
        "\n",
        "With graphs that are asymmetric, like connectivity on the GBR, we can treat "
      ]
    },
    {
      "cell_type": "code",
      "metadata": {
        "id": "RlYCikyPvjjp"
      },
      "source": [
        "# make the matrix symmetric and binary\n",
        "C = C + C.transpose()\n",
        "\n",
        "# create a new binary matrix\n",
        "CNew = np.zeros([320, 320])\n",
        "for i in range(320):\n",
        "  for j in range(320):\n",
        "    if C[i, j] > 0:\n",
        "      CNew[i, j] = 1\n",
        "\n",
        "# replace the old C matrix\n",
        "C = CNew"
      ],
      "execution_count": null,
      "outputs": []
    },
    {
      "cell_type": "code",
      "metadata": {
        "id": "-ID2gG7rxzCJ"
      },
      "source": [
        "# define the clustering variable\n",
        "Clustering = np.zeros(320)\n",
        "\n",
        "\n",
        "# go through each node\n",
        "for i in range(320):\n",
        "\n",
        "    # Clustering is the proportion of possible triangles that are actually triangles\n",
        "    # We therefore need to count both\n",
        "    count = 0;\n",
        "    cliques = 0; \n",
        "\n",
        "    for j in range(320):\n",
        "      for k in range(320):\n",
        "        if C[i,j] > 0 and C[i,k] > 0:\n",
        "\n",
        "          # If we're here in the loop, then i-j is a link, and i-k is a link                \n",
        "          count = count + 1;\n",
        "\n",
        "          # If j-k is also a link, then we have a triangle.\n",
        "          if C[j, k] > 0:\n",
        "            cliques = cliques + 1;\n",
        "\n",
        "    # What proportion of potential triangles were actually closed triangles?\n",
        "    Clustering[i] = cliques / count;"
      ],
      "execution_count": null,
      "outputs": []
    },
    {
      "cell_type": "code",
      "metadata": {
        "id": "hv6CcNq7xx_S"
      },
      "source": [
        "# Map the clusteredness in space\n",
        "fig, axs = plt.subplots()\n",
        "FS = 18;\n",
        "\n",
        "# Split the clusteredness into quintiles\n",
        "Q = np.quantile(Clustering, [0.2, 0.4, 0.6, 0.8]);\n",
        "CL = np.array([[0, 0.2, 1], [0, 1, 1], [0.5, 1, 0.5], [1, 1, 0], [1, 0.1, 0]])\n",
        "\n",
        "MS = 12\n",
        "\n",
        "for i in range(320):\n",
        "    \n",
        "  # plot the centroids in a different colour based on the quintile they occupy\n",
        "  if Clustering[i] < Q[0]:\n",
        "    axs.plot(centroid[i, 0], centroid[i, 1], '.', markersize = MS, color = CL[0, :])\n",
        "  elif Clustering[i] < Q[1]:\n",
        "    axs.plot(centroid[i, 0], centroid[i, 1], '.', markersize = MS, color = CL[1, :])\n",
        "  elif Clustering[i] < Q[2]:\n",
        "    axs.plot(centroid[i, 0], centroid[i, 1], '.', markersize = MS, color = CL[2, :])\n",
        "  elif Clustering[i] < Q[3]:\n",
        "    axs.plot(centroid[i, 0], centroid[i, 1], '.', markersize = MS, color = CL[3, :])\n",
        "  else:\n",
        "    axs.plot(centroid[i, 0], centroid[i, 1], '.', markersize = MS, color = CL[4, :])\n",
        "\n",
        "# set up the figure\n",
        "plt.xlim([144.4, 147.75])\n",
        "plt.ylim([-19, -13.5])\n",
        "# fig.colorbar() # need to fix up the colorbar smh\n",
        "\n",
        "axs.plot(AustOutNP[:,0], AustOutNP[:,1],'k')\n",
        "\n",
        "axs.set_aspect('equal', 'box')\n",
        "plt.rcParams[\"figure.figsize\"] = (10, 10)\n",
        "plt.show()\n"
      ],
      "execution_count": null,
      "outputs": []
    }
  ]
}