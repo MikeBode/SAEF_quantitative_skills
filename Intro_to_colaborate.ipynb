{
  "nbformat": 4,
  "nbformat_minor": 0,
  "metadata": {
    "colab": {
      "name": "Intro_to_colaborate.ipynb",
      "provenance": [],
      "collapsed_sections": []
    },
    "kernelspec": {
      "name": "python3",
      "display_name": "Python 3"
    },
    "language_info": {
      "name": "python"
    }
  },
  "cells": [
    {
      "cell_type": "markdown",
      "metadata": {
        "id": "RaL-JTPcsR-K"
      },
      "source": [
        "# Introduction to Python in Colaborate"
      ]
    },
    {
      "cell_type": "code",
      "metadata": {
        "id": "sRA0Ps7nBT_y"
      },
      "source": [
        "# This cell loads libraries that we need\n",
        "# <-- this hash denotes a \"comment\". \n",
        "# That is, explanatory text that is not run as code.\n",
        "import matplotlib.pyplot as plt\n",
        "import numpy as np\n",
        "import math\n",
        "import pandas as pd\n",
        "import matplotlib as mpltlb"
      ],
      "execution_count": 2,
      "outputs": []
    },
    {
      "cell_type": "code",
      "metadata": {
        "id": "WjqFFXQjcgjT",
        "colab": {
          "base_uri": "https://localhost:8080/"
        },
        "outputId": "e8c6f7e9-1783-4991-cafa-6cd783973df7"
      },
      "source": [
        "# Simple mathematical operations\n",
        "\n",
        "# adding two numbers together - we use the print command to \"print\" out any variables we want to examine\n",
        "x = 1 + 1\n",
        "print(\"x =\", x)\n",
        "\n",
        "# adding two variables together\n",
        "a = 1\n",
        "b = 4\n",
        "c = a + b\n",
        "print(\"c =\", c)\n",
        "\n",
        "# multiplying numbers or variables together can be achieved using the \"*\" symbol\n",
        "y = 4 * 5\n",
        "print(\"y =\", y)\n",
        "\n",
        "d = 3\n",
        "e = 9\n",
        "f = d * e\n",
        "print(\"f =\", f)"
      ],
      "execution_count": 3,
      "outputs": [
        {
          "output_type": "stream",
          "name": "stdout",
          "text": [
            "x = 2\n",
            "c = 5\n",
            "y = 20\n",
            "f = 27\n"
          ]
        }
      ]
    },
    {
      "cell_type": "code",
      "metadata": {
        "colab": {
          "base_uri": "https://localhost:8080/"
        },
        "id": "3XUuvdAoCzBP",
        "outputId": "51c4c2d0-d3bf-410a-fb8b-23e961cc22c2"
      },
      "source": [
        "# loading data\n",
        "url = 'https://raw.githubusercontent.com/MikeBode/SAEF_quantitative_skills/main/centroid.csv'\n",
        "centroid = pd.read_csv(url, error_bad_lines=False, header=None)\n",
        "print(centroid)\n",
        "centroid = centroid.to_numpy()\n",
        "\n",
        "# load data on the outline of the Australian coastline\n",
        "url = 'https://raw.githubusercontent.com/MikeBode/SAEF_quantitative_skills/main/AustOutline.csv'\n",
        "AustOutline = pd.read_csv(url, error_bad_lines=False)"
      ],
      "execution_count": 4,
      "outputs": [
        {
          "output_type": "stream",
          "name": "stdout",
          "text": [
            "          0       1\n",
            "0    145.43 -16.400\n",
            "1    145.57 -16.387\n",
            "2    145.69 -16.732\n",
            "3    145.98 -16.761\n",
            "4    146.01 -17.158\n",
            "..      ...     ...\n",
            "315  145.80 -15.605\n",
            "316  145.81 -15.646\n",
            "317  145.71 -15.643\n",
            "318  145.52 -15.606\n",
            "319  145.43 -15.637\n",
            "\n",
            "[320 rows x 2 columns]\n"
          ]
        }
      ]
    },
    {
      "cell_type": "code",
      "metadata": {
        "colab": {
          "base_uri": "https://localhost:8080/"
        },
        "id": "KcMS2YU9clCO",
        "outputId": "05497ad7-f31e-4a68-e5f2-99900b9bc7f7"
      },
      "source": [
        "# Vectors, matrices and indexing\n",
        "\n",
        "# What's the latitude and longitude of the first reef? \n",
        "# Note that Python starts numbering arrays at position '0'\n",
        "print(centroid[0,:])"
      ],
      "execution_count": 5,
      "outputs": [
        {
          "output_type": "stream",
          "name": "stdout",
          "text": [
            "[145.43 -16.4 ]\n"
          ]
        }
      ]
    }
  ]
}